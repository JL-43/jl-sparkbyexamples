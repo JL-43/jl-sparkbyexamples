{
 "cells": [
  {
   "cell_type": "code",
   "execution_count": 8,
   "metadata": {},
   "outputs": [
    {
     "ename": "SyntaxError",
     "evalue": "invalid syntax (<ipython-input-8-6e075eedbcf8>, line 7)",
     "output_type": "error",
     "traceback": [
      "\u001b[0;36m  File \u001b[0;32m\"<ipython-input-8-6e075eedbcf8>\"\u001b[0;36m, line \u001b[0;32m7\u001b[0m\n\u001b[0;31m    val conf = new SparkConf()\u001b[0m\n\u001b[0m           ^\u001b[0m\n\u001b[0;31mSyntaxError\u001b[0m\u001b[0;31m:\u001b[0m invalid syntax\n"
     ]
    }
   ],
   "source": [
    "import findspark\n",
    "findspark.init()\n",
    "\n",
    "import pyspark\n",
    "from pyspark.sql import SparkSession\n",
    "# spark = SparkSession.builder.master(\"local[1]\").appName(\"SparkByExamples.com\").set(\"spark.driver.host\", \"localhost\" ).getOrCreate()\n",
    "val conf = new SparkConf()\n",
    "    .setAppName( \"temp1\" )\n",
    "    .setMaster( \"local\" )\n",
    "    .set( \"spark.driver.host\", \"localhost\" )\n",
    "\n",
    "val sc = \n",
    "    SparkContext\n",
    "    .getOrCreate( conf )"
   ]
  },
  {
   "cell_type": "code",
   "execution_count": null,
   "metadata": {},
   "outputs": [],
   "source": [
    "spark"
   ]
  },
  {
   "cell_type": "code",
   "execution_count": null,
   "metadata": {},
   "outputs": [],
   "source": []
  }
 ],
 "metadata": {
  "kernelspec": {
   "display_name": "Python 3",
   "language": "python",
   "name": "python3"
  },
  "language_info": {
   "codemirror_mode": {
    "name": "ipython",
    "version": 3
   },
   "file_extension": ".py",
   "mimetype": "text/x-python",
   "name": "python",
   "nbconvert_exporter": "python",
   "pygments_lexer": "ipython3",
   "version": "3.7.6"
  }
 },
 "nbformat": 4,
 "nbformat_minor": 4
}
